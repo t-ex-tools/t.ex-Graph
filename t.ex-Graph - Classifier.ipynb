{
 "cells": [
  {
   "cell_type": "code",
   "execution_count": 26,
   "metadata": {},
   "outputs": [
    {
     "name": "stdout",
     "output_type": "stream",
     "text": [
      "The autoreload extension is already loaded. To reload it, use:\n",
      "  %reload_ext autoreload\n"
     ]
    }
   ],
   "source": [
    "%load_ext autoreload\n",
    "%autoreload 2"
   ]
  },
  {
   "cell_type": "code",
   "execution_count": 27,
   "metadata": {},
   "outputs": [
    {
     "name": "stderr",
     "output_type": "stream",
     "text": [
      "Intel(R) Extension for Scikit-learn* enabled (https://github.com/intel/scikit-learn-intelex)\n"
     ]
    }
   ],
   "source": [
    "from sklearnex import patch_sklearn \n",
    "\n",
    "patch_sklearn()"
   ]
  },
  {
   "cell_type": "code",
   "execution_count": 28,
   "metadata": {},
   "outputs": [],
   "source": [
    "from os.path import expanduser, join\n",
    "import pathlib\n",
    "\n",
    "root = pathlib.Path().resolve()"
   ]
  },
  {
   "cell_type": "code",
   "execution_count": 29,
   "metadata": {},
   "outputs": [],
   "source": [
    "from os import listdir\n",
    "\n",
    "dir = listdir(root)\n",
    "if 't.ex-Graph' in dir:\n",
    "  root = join(root, 't.ex-Graph')"
   ]
  },
  {
   "cell_type": "code",
   "execution_count": 30,
   "metadata": {},
   "outputs": [],
   "source": [
    "import sys\n",
    "sys.path.insert(1, join(root, 'lib'))\n",
    "\n",
    "import config\n",
    "import data\n",
    "import model\n",
    "import export"
   ]
  },
  {
   "cell_type": "code",
   "execution_count": 31,
   "metadata": {},
   "outputs": [],
   "source": [
    "datasets = [\n",
    "\n",
    "  {\n",
    "    'label': 't.ex-Graph (SLDs)',\n",
    "    'data': data.read(join(root, 'data', 'graph-data-sld.csv')),\n",
    "    'smote': False\n",
    "  },\n",
    "\n",
    "  {\n",
    "    'label': 't.ex-Graph (SLDs) / SMOTE',\n",
    "    'data': data.read(join(root, 'data', 'graph-data-sld.csv')),\n",
    "    'smote': True\n",
    "  }, \n",
    "\n",
    "  {\n",
    "    'label': 't.ex-Graph (FQDN)',\n",
    "    'data': data.read(join(root, 'data', 'graph-data-fqdn.csv')),\n",
    "    'smote': False\n",
    "  },\n",
    "\n",
    "  {\n",
    "    'label': 't.ex-Graph (FQDN) / SMOTE',\n",
    "    'data': data.read(join(root, 'data', 'graph-data-fqdn.csv')),\n",
    "    'smote': True\n",
    "  }  \n",
    "\n",
    "]"
   ]
  },
  {
   "cell_type": "code",
   "execution_count": 32,
   "metadata": {},
   "outputs": [],
   "source": [
    "for dataset in datasets:\n",
    "  data.binary_classification_labels(config.binary_tracker, dataset.get('data'))"
   ]
  },
  {
   "cell_type": "code",
   "execution_count": 33,
   "metadata": {},
   "outputs": [],
   "source": [
    "features = data.feature_vector(datasets[0].get('data'))"
   ]
  },
  {
   "cell_type": "code",
   "execution_count": 34,
   "metadata": {},
   "outputs": [],
   "source": [
    "targets = [ \n",
    "  config.binary_tracker\n",
    "]"
   ]
  },
  {
   "cell_type": "code",
   "execution_count": 35,
   "metadata": {},
   "outputs": [],
   "source": [
    "models = dict()\n",
    "for target in targets:\n",
    "  models[target] = list()"
   ]
  },
  {
   "cell_type": "code",
   "execution_count": 36,
   "metadata": {},
   "outputs": [],
   "source": [
    "from sklearn.linear_model import LinearRegression, LogisticRegression\n",
    "from sklearn.ensemble import RandomForestRegressor, RandomForestClassifier, AdaBoostClassifier, GradientBoostingClassifier\n",
    "from sklearn.tree import DecisionTreeClassifier\n",
    "from sklearn.naive_bayes import GaussianNB\n",
    "from sklearn.neighbors import KNeighborsClassifier\n",
    "from sklearn.discriminant_analysis import QuadraticDiscriminantAnalysis\n",
    "from sklearn.neural_network import MLPClassifier\n",
    "from sklearn.svm import SVC\n",
    "\n",
    "models[config.binary_tracker] = [\n",
    "    LogisticRegression(n_jobs=-1),\n",
    "    KNeighborsClassifier(n_jobs=-1),\n",
    "    SVC(),\n",
    "    GaussianNB(),\n",
    "    DecisionTreeClassifier(),\n",
    "    RandomForestClassifier(n_jobs=-1),\n",
    "    AdaBoostClassifier(),\n",
    "    GradientBoostingClassifier()\n",
    "    QuadraticDiscriminantAnalysis(),\n",
    "    MLPClassifier()\n",
    "]"
   ]
  },
  {
   "cell_type": "code",
   "execution_count": 37,
   "metadata": {},
   "outputs": [],
   "source": [
    "%matplotlib agg\n",
    "\n",
    "results = model.compute_results(\n",
    "  datasets, \n",
    "  models, \n",
    "  features, \n",
    "  targets,\n",
    "  root\n",
    ")"
   ]
  },
  {
   "cell_type": "code",
   "execution_count": 38,
   "metadata": {},
   "outputs": [],
   "source": [
    "export.classification_results(results, root)"
   ]
  },
  {
   "cell_type": "code",
   "execution_count": 39,
   "metadata": {},
   "outputs": [],
   "source": [
    "\"\"\"%matplotlib inline\"\"\"\n",
    "\n",
    "export.feature_importances(results, root)"
   ]
  },
  {
   "cell_type": "code",
   "execution_count": 40,
   "metadata": {},
   "outputs": [],
   "source": [
    "export.cross_validation(results, root)"
   ]
  }
 ],
 "metadata": {
  "kernelspec": {
   "display_name": "Python 3.10.8 64-bit",
   "language": "python",
   "name": "python3"
  },
  "language_info": {
   "codemirror_mode": {
    "name": "ipython",
    "version": 3
   },
   "file_extension": ".py",
   "mimetype": "text/x-python",
   "name": "python",
   "nbconvert_exporter": "python",
   "pygments_lexer": "ipython3",
   "version": "3.10.8"
  },
  "orig_nbformat": 4,
  "vscode": {
   "interpreter": {
    "hash": "2e9a2dbc51607f973d907a8a37a429e79fe4f13f959c934dc2081d8dac3e8f28"
   }
  }
 },
 "nbformat": 4,
 "nbformat_minor": 2
}
