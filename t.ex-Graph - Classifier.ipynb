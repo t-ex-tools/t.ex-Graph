{
 "cells": [
  {
   "cell_type": "code",
   "execution_count": 14,
   "metadata": {},
   "outputs": [],
   "source": [
    "from os.path import expanduser, join\n",
    "root = join(expanduser(\"~\"), 't.ex-Graph')"
   ]
  },
  {
   "cell_type": "code",
   "execution_count": 15,
   "metadata": {},
   "outputs": [],
   "source": [
    "import sys\n",
    "sys.path.insert(1, join(root, 'lib'))\n",
    "\n",
    "import config\n",
    "import functions\n",
    "import data\n",
    "import model\n",
    "import export"
   ]
  },
  {
   "cell_type": "code",
   "execution_count": 16,
   "metadata": {},
   "outputs": [],
   "source": [
    "datasets = [{\n",
    "    'label': 'HTTP/S Graph (SLDs)',\n",
    "    'data': data.read(join(root, 'data', 'graph-data-sld.csv'))\n",
    "  }, {\n",
    "    'label': 'HTTP/S Graph (FQDN)',\n",
    "    'data': data.read(join(root, 'data', 'graph-data-fqdn.csv'))\n",
    "  }\n",
    "]"
   ]
  },
  {
   "cell_type": "code",
   "execution_count": 17,
   "metadata": {},
   "outputs": [],
   "source": [
    "features = [col for col in list(datasets[0].get('data').columns) if col.lower() not in ['id', 'weight', 'tracker']]"
   ]
  },
  {
   "cell_type": "code",
   "execution_count": 18,
   "metadata": {},
   "outputs": [],
   "source": [
    "from sklearn.preprocessing import LabelEncoder\n",
    "\n",
    "for dataset in datasets:\n",
    "  dataset.get('data')['tracker'] = LabelEncoder().fit_transform(dataset.get('data')['tracker'])"
   ]
  },
  {
   "cell_type": "code",
   "execution_count": 19,
   "metadata": {},
   "outputs": [],
   "source": [
    "extension = []\n",
    "for dataset in datasets:\n",
    "  extension.append({\n",
    "    'label': dataset.get('label') + ' 50/50',\n",
    "    'data': data.sample_equal_distribution(dataset.get('data'), 'tracker')\n",
    "  })\n",
    "\n",
    "datasets.extend(extension)"
   ]
  },
  {
   "cell_type": "code",
   "execution_count": 20,
   "metadata": {},
   "outputs": [],
   "source": [
    "from sklearn.linear_model import LinearRegression, LogisticRegression\n",
    "from sklearn.ensemble import RandomForestRegressor\n",
    "from sklearn.tree import DecisionTreeClassifier\n",
    "\n",
    "models = {\n",
    "  'continuous': [\n",
    "    LinearRegression(n_jobs=-1),\n",
    "    RandomForestRegressor(n_estimators=200, random_state=0, n_jobs=-1)\n",
    "  ],\n",
    "  'category':[\n",
    "    DecisionTreeClassifier(),\n",
    "    LogisticRegression(solver='lbfgs', max_iter=1000, n_jobs=-1)\n",
    "  ]\n",
    "}"
   ]
  },
  {
   "cell_type": "code",
   "execution_count": 21,
   "metadata": {},
   "outputs": [],
   "source": [
    "%matplotlib agg\n",
    "\n",
    "results = model.compute_results(\n",
    "  datasets, \n",
    "  models, \n",
    "  features, \n",
    "  ['weight', 'tracker']\n",
    ")"
   ]
  },
  {
   "cell_type": "code",
   "execution_count": 22,
   "metadata": {},
   "outputs": [],
   "source": [
    "export.classification_results(results, root)"
   ]
  },
  {
   "cell_type": "code",
   "execution_count": 23,
   "metadata": {},
   "outputs": [],
   "source": [
    "export.aggregated_classification_results(root)"
   ]
  },
  {
   "cell_type": "code",
   "execution_count": 25,
   "metadata": {},
   "outputs": [
    {
     "name": "stdout",
     "output_type": "stream",
     "text": [
      "{'LinearRegression': {'continuous': True, 'train_test': {'r2': 0.4196722529212139, 'mse': 0.2746998789011599, 'mae': 0.1995881916445514}, 'feature_importance': None, 'cross_validation': None}, 'RandomForestRegressor': {'continuous': True, 'train_test': {'r2': 0.8247079355292348, 'mse': 0.15097426638746608, 'mae': 0.0653291239193551}, 'feature_importance': None, 'cross_validation': None}, 'DecisionTreeClassifier': {'continuous': False, 'train_test': {'accuracy': 0.9973209501696731, 'precision': 0.9972657722366461, 'recall': 0.9972003761383046, 'f1_score': 0.9972330391825175}, 'feature_importance': None, 'cross_validation': None}, 'LogisticRegression': {'continuous': False, 'train_test': {'accuracy': 0.8720307197713878, 'precision': 0.8721675391698621, 'recall': 0.8620759120998094, 'f1_score': 0.8661614228757031}, 'feature_importance': None, 'cross_validation': None}}\n",
      "{'LinearRegression': {'continuous': True, 'train_test': {'r2': 0.4196722529212139, 'mse': 0.2746998789011599, 'mae': 0.1995881916445514}, 'feature_importance': None, 'cross_validation': None}, 'RandomForestRegressor': {'continuous': True, 'train_test': {'r2': 0.8247079355292348, 'mse': 0.15097426638746608, 'mae': 0.0653291239193551}, 'feature_importance': None, 'cross_validation': None}, 'DecisionTreeClassifier': {'continuous': False, 'train_test': {'accuracy': 0.9973209501696731, 'precision': 0.9972657722366461, 'recall': 0.9972003761383046, 'f1_score': 0.9972330391825175}, 'feature_importance': None, 'cross_validation': None}, 'LogisticRegression': {'continuous': False, 'train_test': {'accuracy': 0.8720307197713878, 'precision': 0.8721675391698621, 'recall': 0.8620759120998094, 'f1_score': 0.8661614228757031}, 'feature_importance': None, 'cross_validation': None}}\n",
      "{'LinearRegression': {'continuous': True, 'train_test': {'r2': 0.4196722529212139, 'mse': 0.2746998789011599, 'mae': 0.1995881916445514}, 'feature_importance': None, 'cross_validation': None}, 'RandomForestRegressor': {'continuous': True, 'train_test': {'r2': 0.8247079355292348, 'mse': 0.15097426638746608, 'mae': 0.0653291239193551}, 'feature_importance': None, 'cross_validation': None}, 'DecisionTreeClassifier': {'continuous': False, 'train_test': {'accuracy': 0.9973209501696731, 'precision': 0.9972657722366461, 'recall': 0.9972003761383046, 'f1_score': 0.9972330391825175}, 'feature_importance': None, 'cross_validation': None}, 'LogisticRegression': {'continuous': False, 'train_test': {'accuracy': 0.8720307197713878, 'precision': 0.8721675391698621, 'recall': 0.8620759120998094, 'f1_score': 0.8661614228757031}, 'feature_importance': None, 'cross_validation': None}}\n",
      "{'LinearRegression': {'continuous': True, 'train_test': {'r2': 0.4196722529212139, 'mse': 0.2746998789011599, 'mae': 0.1995881916445514}, 'feature_importance': None, 'cross_validation': None}, 'RandomForestRegressor': {'continuous': True, 'train_test': {'r2': 0.8247079355292348, 'mse': 0.15097426638746608, 'mae': 0.0653291239193551}, 'feature_importance': None, 'cross_validation': None}, 'DecisionTreeClassifier': {'continuous': False, 'train_test': {'accuracy': 0.9973209501696731, 'precision': 0.9972657722366461, 'recall': 0.9972003761383046, 'f1_score': 0.9972330391825175}, 'feature_importance': None, 'cross_validation': None}, 'LogisticRegression': {'continuous': False, 'train_test': {'accuracy': 0.8720307197713878, 'precision': 0.8721675391698621, 'recall': 0.8620759120998094, 'f1_score': 0.8661614228757031}, 'feature_importance': None, 'cross_validation': None}}\n",
      "{'LinearRegression': {'continuous': True, 'train_test': {'r2': 0.3029581712620114, 'mse': 0.3687453692042221, 'mae': 0.2233762591343293}, 'feature_importance': None, 'cross_validation': None}, 'RandomForestRegressor': {'continuous': True, 'train_test': {'r2': 0.8757563061504761, 'mse': 0.15568054103257864, 'mae': 0.05359253992222486}, 'feature_importance': None, 'cross_validation': None}, 'DecisionTreeClassifier': {'continuous': False, 'train_test': {'accuracy': 0.9829259119969913, 'precision': 0.9811838032356717, 'recall': 0.9823561667332428, 'f1_score': 0.9817639326514765}, 'feature_importance': None, 'cross_validation': None}, 'LogisticRegression': {'continuous': False, 'train_test': {'accuracy': 0.9495675065814216, 'precision': 0.9542560745951629, 'recall': 0.9380905143344813, 'f1_score': 0.9451436706716948}, 'feature_importance': None, 'cross_validation': None}}\n",
      "{'LinearRegression': {'continuous': True, 'train_test': {'r2': 0.3029581712620114, 'mse': 0.3687453692042221, 'mae': 0.2233762591343293}, 'feature_importance': None, 'cross_validation': None}, 'RandomForestRegressor': {'continuous': True, 'train_test': {'r2': 0.8757563061504761, 'mse': 0.15568054103257864, 'mae': 0.05359253992222486}, 'feature_importance': None, 'cross_validation': None}, 'DecisionTreeClassifier': {'continuous': False, 'train_test': {'accuracy': 0.9829259119969913, 'precision': 0.9811838032356717, 'recall': 0.9823561667332428, 'f1_score': 0.9817639326514765}, 'feature_importance': None, 'cross_validation': None}, 'LogisticRegression': {'continuous': False, 'train_test': {'accuracy': 0.9495675065814216, 'precision': 0.9542560745951629, 'recall': 0.9380905143344813, 'f1_score': 0.9451436706716948}, 'feature_importance': None, 'cross_validation': None}}\n",
      "{'LinearRegression': {'continuous': True, 'train_test': {'r2': 0.3029581712620114, 'mse': 0.3687453692042221, 'mae': 0.2233762591343293}, 'feature_importance': None, 'cross_validation': None}, 'RandomForestRegressor': {'continuous': True, 'train_test': {'r2': 0.8757563061504761, 'mse': 0.15568054103257864, 'mae': 0.05359253992222486}, 'feature_importance': None, 'cross_validation': None}, 'DecisionTreeClassifier': {'continuous': False, 'train_test': {'accuracy': 0.9829259119969913, 'precision': 0.9811838032356717, 'recall': 0.9823561667332428, 'f1_score': 0.9817639326514765}, 'feature_importance': None, 'cross_validation': None}, 'LogisticRegression': {'continuous': False, 'train_test': {'accuracy': 0.9495675065814216, 'precision': 0.9542560745951629, 'recall': 0.9380905143344813, 'f1_score': 0.9451436706716948}, 'feature_importance': None, 'cross_validation': None}}\n",
      "{'LinearRegression': {'continuous': True, 'train_test': {'r2': 0.3029581712620114, 'mse': 0.3687453692042221, 'mae': 0.2233762591343293}, 'feature_importance': None, 'cross_validation': None}, 'RandomForestRegressor': {'continuous': True, 'train_test': {'r2': 0.8757563061504761, 'mse': 0.15568054103257864, 'mae': 0.05359253992222486}, 'feature_importance': None, 'cross_validation': None}, 'DecisionTreeClassifier': {'continuous': False, 'train_test': {'accuracy': 0.9829259119969913, 'precision': 0.9811838032356717, 'recall': 0.9823561667332428, 'f1_score': 0.9817639326514765}, 'feature_importance': None, 'cross_validation': None}, 'LogisticRegression': {'continuous': False, 'train_test': {'accuracy': 0.9495675065814216, 'precision': 0.9542560745951629, 'recall': 0.9380905143344813, 'f1_score': 0.9451436706716948}, 'feature_importance': None, 'cross_validation': None}}\n",
      "{'LinearRegression': {'continuous': True, 'train_test': {'r2': 0.4764838225032436, 'mse': 0.27903701684595417, 'mae': 0.21390153974042236}, 'feature_importance': None, 'cross_validation': None}, 'RandomForestRegressor': {'continuous': True, 'train_test': {'r2': 0.9926269999016971, 'mse': 0.03311455221928718, 'mae': 0.006881647706669782}, 'feature_importance': None, 'cross_validation': None}, 'DecisionTreeClassifier': {'continuous': False, 'train_test': {'accuracy': 1.0, 'precision': 1.0, 'recall': 1.0, 'f1_score': 1.0}, 'feature_importance': None, 'cross_validation': None}, 'LogisticRegression': {'continuous': False, 'train_test': {'accuracy': 0.9538194166542802, 'precision': 0.9539161382645782, 'recall': 0.9538140887861892, 'f1_score': 0.9538165505239555}, 'feature_importance': None, 'cross_validation': None}}\n",
      "{'LinearRegression': {'continuous': True, 'train_test': {'r2': 0.4764838225032436, 'mse': 0.27903701684595417, 'mae': 0.21390153974042236}, 'feature_importance': None, 'cross_validation': None}, 'RandomForestRegressor': {'continuous': True, 'train_test': {'r2': 0.9926269999016971, 'mse': 0.03311455221928718, 'mae': 0.006881647706669782}, 'feature_importance': None, 'cross_validation': None}, 'DecisionTreeClassifier': {'continuous': False, 'train_test': {'accuracy': 1.0, 'precision': 1.0, 'recall': 1.0, 'f1_score': 1.0}, 'feature_importance': None, 'cross_validation': None}, 'LogisticRegression': {'continuous': False, 'train_test': {'accuracy': 0.9538194166542802, 'precision': 0.9539161382645782, 'recall': 0.9538140887861892, 'f1_score': 0.9538165505239555}, 'feature_importance': None, 'cross_validation': None}}\n",
      "{'LinearRegression': {'continuous': True, 'train_test': {'r2': 0.4764838225032436, 'mse': 0.27903701684595417, 'mae': 0.21390153974042236}, 'feature_importance': None, 'cross_validation': None}, 'RandomForestRegressor': {'continuous': True, 'train_test': {'r2': 0.9926269999016971, 'mse': 0.03311455221928718, 'mae': 0.006881647706669782}, 'feature_importance': None, 'cross_validation': None}, 'DecisionTreeClassifier': {'continuous': False, 'train_test': {'accuracy': 1.0, 'precision': 1.0, 'recall': 1.0, 'f1_score': 1.0}, 'feature_importance': None, 'cross_validation': None}, 'LogisticRegression': {'continuous': False, 'train_test': {'accuracy': 0.9538194166542802, 'precision': 0.9539161382645782, 'recall': 0.9538140887861892, 'f1_score': 0.9538165505239555}, 'feature_importance': None, 'cross_validation': None}}\n",
      "{'LinearRegression': {'continuous': True, 'train_test': {'r2': 0.4764838225032436, 'mse': 0.27903701684595417, 'mae': 0.21390153974042236}, 'feature_importance': None, 'cross_validation': None}, 'RandomForestRegressor': {'continuous': True, 'train_test': {'r2': 0.9926269999016971, 'mse': 0.03311455221928718, 'mae': 0.006881647706669782}, 'feature_importance': None, 'cross_validation': None}, 'DecisionTreeClassifier': {'continuous': False, 'train_test': {'accuracy': 1.0, 'precision': 1.0, 'recall': 1.0, 'f1_score': 1.0}, 'feature_importance': None, 'cross_validation': None}, 'LogisticRegression': {'continuous': False, 'train_test': {'accuracy': 0.9538194166542802, 'precision': 0.9539161382645782, 'recall': 0.9538140887861892, 'f1_score': 0.9538165505239555}, 'feature_importance': None, 'cross_validation': None}}\n",
      "{'LinearRegression': {'continuous': True, 'train_test': {'r2': 0.5537789203770238, 'mse': 0.315250331767768, 'mae': 0.24550586561555837}, 'feature_importance': None, 'cross_validation': None}, 'RandomForestRegressor': {'continuous': True, 'train_test': {'r2': 0.9915283846382421, 'mse': 0.04343738034197639, 'mae': 0.0065257781428181795}, 'feature_importance': None, 'cross_validation': None}, 'DecisionTreeClassifier': {'continuous': False, 'train_test': {'accuracy': 0.9992603747080077, 'precision': 0.9992607118589559, 'recall': 0.9992601775243082, 'f1_score': 0.9992603739599593}, 'feature_importance': None, 'cross_validation': None}, 'LogisticRegression': {'continuous': False, 'train_test': {'accuracy': 0.9737699073606019, 'precision': 0.9742829170694252, 'recall': 0.9737821858013266, 'f1_score': 0.9737632905845083}, 'feature_importance': None, 'cross_validation': None}}\n",
      "{'LinearRegression': {'continuous': True, 'train_test': {'r2': 0.5537789203770238, 'mse': 0.315250331767768, 'mae': 0.24550586561555837}, 'feature_importance': None, 'cross_validation': None}, 'RandomForestRegressor': {'continuous': True, 'train_test': {'r2': 0.9915283846382421, 'mse': 0.04343738034197639, 'mae': 0.0065257781428181795}, 'feature_importance': None, 'cross_validation': None}, 'DecisionTreeClassifier': {'continuous': False, 'train_test': {'accuracy': 0.9992603747080077, 'precision': 0.9992607118589559, 'recall': 0.9992601775243082, 'f1_score': 0.9992603739599593}, 'feature_importance': None, 'cross_validation': None}, 'LogisticRegression': {'continuous': False, 'train_test': {'accuracy': 0.9737699073606019, 'precision': 0.9742829170694252, 'recall': 0.9737821858013266, 'f1_score': 0.9737632905845083}, 'feature_importance': None, 'cross_validation': None}}\n",
      "{'LinearRegression': {'continuous': True, 'train_test': {'r2': 0.5537789203770238, 'mse': 0.315250331767768, 'mae': 0.24550586561555837}, 'feature_importance': None, 'cross_validation': None}, 'RandomForestRegressor': {'continuous': True, 'train_test': {'r2': 0.9915283846382421, 'mse': 0.04343738034197639, 'mae': 0.0065257781428181795}, 'feature_importance': None, 'cross_validation': None}, 'DecisionTreeClassifier': {'continuous': False, 'train_test': {'accuracy': 0.9992603747080077, 'precision': 0.9992607118589559, 'recall': 0.9992601775243082, 'f1_score': 0.9992603739599593}, 'feature_importance': None, 'cross_validation': None}, 'LogisticRegression': {'continuous': False, 'train_test': {'accuracy': 0.9737699073606019, 'precision': 0.9742829170694252, 'recall': 0.9737821858013266, 'f1_score': 0.9737632905845083}, 'feature_importance': None, 'cross_validation': None}}\n",
      "{'LinearRegression': {'continuous': True, 'train_test': {'r2': 0.5537789203770238, 'mse': 0.315250331767768, 'mae': 0.24550586561555837}, 'feature_importance': None, 'cross_validation': None}, 'RandomForestRegressor': {'continuous': True, 'train_test': {'r2': 0.9915283846382421, 'mse': 0.04343738034197639, 'mae': 0.0065257781428181795}, 'feature_importance': None, 'cross_validation': None}, 'DecisionTreeClassifier': {'continuous': False, 'train_test': {'accuracy': 0.9992603747080077, 'precision': 0.9992607118589559, 'recall': 0.9992601775243082, 'f1_score': 0.9992603739599593}, 'feature_importance': None, 'cross_validation': None}, 'LogisticRegression': {'continuous': False, 'train_test': {'accuracy': 0.9737699073606019, 'precision': 0.9742829170694252, 'recall': 0.9737821858013266, 'f1_score': 0.9737632905845083}, 'feature_importance': None, 'cross_validation': None}}\n"
     ]
    }
   ],
   "source": [
    "for key in results.keys():\n",
    "  for model in results.get(key):\n",
    "    print (results.get(key))"
   ]
  }
 ],
 "metadata": {
  "kernelspec": {
   "display_name": "Python 3 (ipykernel)",
   "language": "python",
   "name": "python3"
  },
  "language_info": {
   "codemirror_mode": {
    "name": "ipython",
    "version": 3
   },
   "file_extension": ".py",
   "mimetype": "text/x-python",
   "name": "python",
   "nbconvert_exporter": "python",
   "pygments_lexer": "ipython3",
   "version": "3.10.6"
  },
  "orig_nbformat": 4,
  "vscode": {
   "interpreter": {
    "hash": "916dbcbb3f70747c44a77c7bcd40155683ae19c65e1c03b4aa3499c5328201f1"
   }
  }
 },
 "nbformat": 4,
 "nbformat_minor": 2
}
