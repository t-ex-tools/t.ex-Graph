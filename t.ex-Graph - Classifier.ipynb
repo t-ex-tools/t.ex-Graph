{
 "cells": [
  {
   "cell_type": "code",
   "execution_count": 79,
   "metadata": {},
   "outputs": [],
   "source": [
    "from os.path import expanduser, join\n",
    "import pathlib\n",
    "\n",
    "root = pathlib.Path().resolve()"
   ]
  },
  {
   "cell_type": "code",
   "execution_count": 80,
   "metadata": {},
   "outputs": [],
   "source": [
    "from os import listdir\n",
    "\n",
    "dir = listdir(root)\n",
    "if 't.ex-Graph' in dir:\n",
    "  root = join(root, 't.ex-Graph')"
   ]
  },
  {
   "cell_type": "code",
   "execution_count": 81,
   "metadata": {},
   "outputs": [],
   "source": [
    "import sys\n",
    "sys.path.insert(1, join(root, 'lib'))\n",
    "\n",
    "import config\n",
    "import functions\n",
    "import data\n",
    "import model\n",
    "import export"
   ]
  },
  {
   "cell_type": "code",
   "execution_count": 82,
   "metadata": {},
   "outputs": [],
   "source": [
    "datasets = [{\n",
    "    'label': 'HTTP/S Graph (SLDs)',\n",
    "    'data': data.read(join(root, 'data', 'graph-data-sld.csv'))\n",
    "  }, {\n",
    "    'label': 'HTTP/S Graph (FQDN)',\n",
    "    'data': data.read(join(root, 'data', 'graph-data-fqdn.csv'))\n",
    "  }\n",
    "]"
   ]
  },
  {
   "cell_type": "code",
   "execution_count": 83,
   "metadata": {},
   "outputs": [],
   "source": [
    "features = [col for col in list(datasets[0].get('data').columns) if col.lower() not in ['id', 'weight', 'tracker']]"
   ]
  },
  {
   "cell_type": "code",
   "execution_count": 84,
   "metadata": {},
   "outputs": [],
   "source": [
    "from sklearn.preprocessing import LabelEncoder\n",
    "\n",
    "for dataset in datasets:\n",
    "  dataset.get('data')['tracker'] = LabelEncoder().fit_transform(dataset.get('data')['tracker'])"
   ]
  },
  {
   "cell_type": "code",
   "execution_count": 85,
   "metadata": {},
   "outputs": [],
   "source": [
    "extension = []\n",
    "for dataset in datasets:\n",
    "  extension.append({\n",
    "    'label': dataset.get('label') + ' 50/50',\n",
    "    'data': data.sample_equal_distribution(dataset.get('data'), 'tracker')\n",
    "  })\n",
    "\n",
    "datasets.extend(extension)"
   ]
  },
  {
   "cell_type": "code",
   "execution_count": 86,
   "metadata": {},
   "outputs": [],
   "source": [
    "from sklearn.linear_model import LinearRegression, LogisticRegression\n",
    "from sklearn.ensemble import RandomForestRegressor\n",
    "from sklearn.tree import DecisionTreeClassifier\n",
    "\n",
    "models = {\n",
    "  'continuous': [\n",
    "    LinearRegression(n_jobs=-1),\n",
    "    RandomForestRegressor(n_estimators=200, random_state=0, n_jobs=-1)\n",
    "  ],\n",
    "  'category':[\n",
    "    DecisionTreeClassifier(),\n",
    "    LogisticRegression(solver='lbfgs', max_iter=1000, n_jobs=-1)\n",
    "  ]\n",
    "}"
   ]
  },
  {
   "cell_type": "code",
   "execution_count": 87,
   "metadata": {},
   "outputs": [
    {
     "name": "stderr",
     "output_type": "stream",
     "text": [
      "/home/philip/anaconda3/lib/python3.9/site-packages/joblib/externals/loky/process_executor.py:702: UserWarning: A worker stopped while some jobs were given to the executor. This can be caused by a too short worker timeout or by a memory leak.\n",
      "  warnings.warn(\n",
      "/home/philip/anaconda3/lib/python3.9/site-packages/joblib/externals/loky/process_executor.py:702: UserWarning: A worker stopped while some jobs were given to the executor. This can be caused by a too short worker timeout or by a memory leak.\n",
      "  warnings.warn(\n"
     ]
    }
   ],
   "source": [
    "%matplotlib agg\n",
    "\n",
    "results = model.compute_results(\n",
    "  datasets, \n",
    "  models, \n",
    "  features, \n",
    "  ['weight', 'tracker']\n",
    ")"
   ]
  },
  {
   "cell_type": "code",
   "execution_count": 88,
   "metadata": {},
   "outputs": [],
   "source": [
    "export.classification_results(results, root)"
   ]
  },
  {
   "cell_type": "code",
   "execution_count": 89,
   "metadata": {},
   "outputs": [],
   "source": [
    "export.aggregated_classification_results(root)"
   ]
  },
  {
   "cell_type": "code",
   "execution_count": 90,
   "metadata": {},
   "outputs": [
    {
     "ename": "AttributeError",
     "evalue": "module 'export' has no attribute 'feature_importances'",
     "output_type": "error",
     "traceback": [
      "\u001b[0;31m---------------------------------------------------------------------------\u001b[0m",
      "\u001b[0;31mAttributeError\u001b[0m                            Traceback (most recent call last)",
      "\u001b[1;32m/home/philip/Arbeit/PhD/Data/Graph/t.ex-Graph - Classifier.ipynb Cell 12\u001b[0m in \u001b[0;36m<cell line: 2>\u001b[0;34m()\u001b[0m\n\u001b[1;32m      <a href='vscode-notebook-cell:/home/philip/Arbeit/PhD/Data/Graph/t.ex-Graph%20-%20Classifier.ipynb#X13sZmlsZQ%3D%3D?line=0'>1</a>\u001b[0m ncols \u001b[39m=\u001b[39m \u001b[39mmax\u001b[39m(\u001b[39mlen\u001b[39m(models[\u001b[39m'\u001b[39m\u001b[39mcontinuous\u001b[39m\u001b[39m'\u001b[39m]), \u001b[39mlen\u001b[39m(models[\u001b[39m'\u001b[39m\u001b[39mcategory\u001b[39m\u001b[39m'\u001b[39m]))\n\u001b[0;32m----> <a href='vscode-notebook-cell:/home/philip/Arbeit/PhD/Data/Graph/t.ex-Graph%20-%20Classifier.ipynb#X13sZmlsZQ%3D%3D?line=1'>2</a>\u001b[0m export\u001b[39m.\u001b[39;49mfeature_importances(\u001b[39m2\u001b[39m, ncols, results, root)\n",
      "\u001b[0;31mAttributeError\u001b[0m: module 'export' has no attribute 'feature_importances'"
     ]
    }
   ],
   "source": [
    "ncols = max(len(models['continuous']), len(models['category']))\n",
    "export.feature_importances(2, ncols, results, root)"
   ]
  }
 ],
 "metadata": {
  "kernelspec": {
   "display_name": "Python 3 (ipykernel)",
   "language": "python",
   "name": "python3"
  },
  "orig_nbformat": 4,
  "vscode": {
   "interpreter": {
    "hash": "916dbcbb3f70747c44a77c7bcd40155683ae19c65e1c03b4aa3499c5328201f1"
   }
  }
 },
 "nbformat": 4,
 "nbformat_minor": 2
}
